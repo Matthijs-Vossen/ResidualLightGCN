{
 "cells": [
  {
   "cell_type": "code",
   "execution_count": 1,
   "id": "abe5eaef-6739-4497-91a1-dd67e9550398",
   "metadata": {},
   "outputs": [],
   "source": [
    "#import libraries\n",
    "from collections import defaultdict\n",
    "\n",
    "from surprise import Reader, Dataset, SVD, accuracy\n",
    "from surprise.model_selection import cross_validate, KFold\n",
    "import pandas as pd\n",
    "import numpy as np"
   ]
  },
  {
   "cell_type": "code",
   "execution_count": 2,
   "id": "ef476b1f-7464-4ba3-879b-17645e33c450",
   "metadata": {},
   "outputs": [],
   "source": [
    "#load data\n",
    "#ratings = pd.read_csv('ratings.csv', sep='\\t', encoding='latin-1', usecols=['user_id', 'movie_id', 'rating', 'timestamp'])\n",
    "#reader = Reader()\n",
    "#data = Dataset.load_from_df(ratings[['user_id', 'movie_id', 'rating']], reader)\n",
    "data = Dataset.load_builtin('ml-100k')"
   ]
  },
  {
   "cell_type": "code",
   "execution_count": 3,
   "id": "081c761c-fa96-442c-8db8-be26d67598aa",
   "metadata": {},
   "outputs": [],
   "source": [
    "# Calculate precision and recall for all users for a given threshold\n",
    "# source: https://surprise.readthedocs.io/en/stable/FAQ.html#precision-recall-at-k-py\n",
    "def precision_recall_at_k(predictions, k=10, threshold=3.5):\n",
    "    \"\"\"Return precision and recall at k metrics for each user\"\"\"\n",
    "\n",
    "    # First map the predictions to each user.\n",
    "    user_est_true = defaultdict(list)\n",
    "    for uid, _, true_r, est, _ in predictions:\n",
    "        user_est_true[uid].append((est, true_r))\n",
    "\n",
    "    precisions = dict()\n",
    "    recalls = dict()\n",
    "    for uid, user_ratings in user_est_true.items():\n",
    "\n",
    "        # Sort user ratings by estimated value\n",
    "        user_ratings.sort(key=lambda x: x[0], reverse=True)\n",
    "\n",
    "        # Number of relevant items\n",
    "        n_rel = sum((true_r >= threshold) for (_, true_r) in user_ratings)\n",
    "\n",
    "        # Number of recommended items in top k\n",
    "        n_rec_k = sum((est >= threshold) for (est, _) in user_ratings[:k])\n",
    "\n",
    "        # Number of relevant and recommended items in top k\n",
    "        n_rel_and_rec_k = sum(\n",
    "            ((true_r >= threshold) and (est >= threshold))\n",
    "            for (est, true_r) in user_ratings[:k]\n",
    "        )\n",
    "\n",
    "        # Precision@K: Proportion of recommended items that are relevant\n",
    "        # When n_rec_k is 0, Precision is undefined. We here set it to 0.\n",
    "\n",
    "        precisions[uid] = n_rel_and_rec_k / n_rec_k if n_rec_k != 0 else 0\n",
    "\n",
    "        # Recall@K: Proportion of relevant items that are recommended\n",
    "        # When n_rel is 0, Recall is undefined. We here set it to 0.\n",
    "\n",
    "        recalls[uid] = n_rel_and_rec_k / n_rel if n_rel != 0 else 0\n",
    "\n",
    "    return precisions, recalls"
   ]
  },
  {
   "cell_type": "code",
   "execution_count": 4,
   "id": "8734777b-af37-4bfb-9543-b8455aee5161",
   "metadata": {},
   "outputs": [
    {
     "name": "stdout",
     "output_type": "stream",
     "text": [
      " Fold 1\n",
      "RMSE: 0.9372\n",
      "Precision: 0.6199\n",
      "Recall: 0.3153\n",
      "---------\n",
      " Fold 2\n",
      "RMSE: 0.9365\n",
      "Precision: 0.6295\n",
      "Recall: 0.311\n",
      "---------\n",
      " Fold 3\n",
      "RMSE: 0.9307\n",
      "Precision: 0.6266\n",
      "Recall: 0.3162\n",
      "---------\n",
      " Fold 4\n",
      "RMSE: 0.9391\n",
      "Precision: 0.6048\n",
      "Recall: 0.3081\n",
      "---------\n",
      " Fold 5\n",
      "RMSE: 0.9400\n",
      "Precision: 0.6341\n",
      "Recall: 0.3167\n",
      "---------\n",
      "Average RMSE: 0.9367\n",
      "Average precision: 0.623\n",
      "Average recall: 0.3135\n"
     ]
    }
   ],
   "source": [
    "n_splits = 5\n",
    "kf = KFold(n_splits=n_splits)\n",
    "algo = SVD()\n",
    "\n",
    "precision = []\n",
    "recall = []\n",
    "rmse = []\n",
    "current_fold = 1\n",
    "\n",
    "for trainset, testset in kf.split(data):\n",
    "    algo.fit(trainset)\n",
    "    predictions = algo.test(testset)\n",
    "    precisions_fold, recalls_fold = precision_recall_at_k(predictions, k=20, threshold=4.0)\n",
    "\n",
    "    avg_precision_fold = sum(prec for prec in precisions_fold.values()) / len(precisions_fold)\n",
    "    avg_recall_fold = sum(rec for rec in recalls_fold.values()) / len(recalls_fold)\n",
    "    \n",
    "    print(f' Fold {current_fold}')\n",
    "    rmse_fold = accuracy.rmse(predictions)\n",
    "    print(f'Precision: {round(avg_precision_fold, 4)}')\n",
    "    print(f'Recall: {round(avg_recall_fold, 4)}')\n",
    "    print('---------')\n",
    "    precision.append(avg_precision_fold)\n",
    "    recall.append(avg_recall_fold)\n",
    "    rmse.append(rmse_fold)\n",
    "    current_fold += 1\n",
    "\n",
    "print(f'Average RMSE: {round(np.mean(np.array(rmse)), 4)}')\n",
    "print(f'Average precision: {round(np.mean(np.array(precision)), 4)}')\n",
    "print(f'Average recall: {round(np.mean(np.array(recall)), 4)}')"
   ]
  },
  {
   "cell_type": "code",
   "execution_count": null,
   "id": "8822f4c2-799c-4722-ba6d-45d2a55d16f6",
   "metadata": {},
   "outputs": [],
   "source": []
  }
 ],
 "metadata": {
  "kernelspec": {
   "display_name": "Python 3 (ipykernel)",
   "language": "python",
   "name": "python3"
  },
  "language_info": {
   "codemirror_mode": {
    "name": "ipython",
    "version": 3
   },
   "file_extension": ".py",
   "mimetype": "text/x-python",
   "name": "python",
   "nbconvert_exporter": "python",
   "pygments_lexer": "ipython3",
   "version": "3.12.4"
  }
 },
 "nbformat": 4,
 "nbformat_minor": 5
}
