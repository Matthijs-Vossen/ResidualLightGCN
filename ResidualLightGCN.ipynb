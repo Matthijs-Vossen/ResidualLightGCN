{
 "cells": [
  {
   "cell_type": "code",
   "execution_count": 1,
   "metadata": {},
   "outputs": [],
   "source": [
    "import os.path as osp\n",
    "\n",
    "import torch\n",
    "from tqdm import tqdm\n",
    "import numpy as np\n",
    "\n",
    "from torch_geometric.nn import LightGCN\n",
    "from torch_geometric.utils import degree, train_test_split_edges"
   ]
  },
  {
   "cell_type": "code",
   "execution_count": 2,
   "metadata": {},
   "outputs": [],
   "source": [
    "import os\n",
    "import os.path as osp\n",
    "from typing import Callable, Optional\n",
    "\n",
    "import pandas as pd\n",
    "from torch_geometric.data import HeteroData, InMemoryDataset, download_url, extract_zip\n",
    "\n",
    "class MovieLens100K(InMemoryDataset):\n",
    "    url = 'https://files.grouplens.org/datasets/movielens/ml-100k.zip'\n",
    "\n",
    "    def __init__(\n",
    "        self,\n",
    "        root: str,\n",
    "        transform: Optional[Callable] = None,\n",
    "        pre_transform: Optional[Callable] = None,\n",
    "        force_reload: bool = False,\n",
    "    ):\n",
    "        super().__init__(root, transform, pre_transform, force_reload=force_reload)\n",
    "        self.load(self.processed_paths[0], data_cls=HeteroData)\n",
    "\n",
    "    @property\n",
    "    def raw_file_names(self) -> list:\n",
    "        return ['u.item', 'u.user', 'u1.base', 'u1.test']\n",
    "\n",
    "    @property\n",
    "    def processed_file_names(self) -> str:\n",
    "        return 'data.pt'\n",
    "\n",
    "    def download(self) -> None:\n",
    "        path = download_url(self.url, self.root)\n",
    "        extract_zip(path, self.root)\n",
    "        os.remove(path)\n",
    "        folder = osp.join(self.root, 'ml-100k')\n",
    "        os.rename(folder, self.raw_dir)\n",
    "\n",
    "    def process(self) -> None:\n",
    "        data = HeteroData()\n",
    "\n",
    "        # Process users:\n",
    "        user_df = pd.read_csv(\n",
    "            osp.join(self.raw_dir, 'u.user'),\n",
    "            sep='|',\n",
    "            header=None,\n",
    "            names=['userId', 'age', 'gender', 'occupation', 'zipCode'],\n",
    "            encoding='ISO-8859-1',\n",
    "        )\n",
    "        data['user'].num_nodes = len(user_df)\n",
    "\n",
    "        # Process movies:\n",
    "        movie_df = pd.read_csv(\n",
    "            osp.join(self.raw_dir, 'u.item'),\n",
    "            sep='|',\n",
    "            header=None,\n",
    "            names=[\n",
    "                \"movieId\", \"title\", \"releaseDate\", \"videoReleaseDate\", \"IMDb URL\",\n",
    "                \"unknown\", \"Action\", \"Adventure\", \"Animation\", \"Children's\", \"Comedy\",\n",
    "                \"Crime\", \"Documentary\", \"Drama\", \"Fantasy\", \"Film-Noir\", \"Horror\",\n",
    "                \"Musical\", \"Mystery\", \"Romance\", \"Sci-Fi\", \"Thriller\", \"War\", \"Western\"\n",
    "            ],\n",
    "            encoding='ISO-8859-1',\n",
    "            usecols=['movieId'],\n",
    "        )\n",
    "        data['movie'].num_nodes = len(movie_df)\n",
    "\n",
    "        # Process edges for training and testing:\n",
    "        edge_attrs = ['edge_index', 'edge_label_index']\n",
    "        for edge_attr, raw_path in zip(edge_attrs, ['u1.base', 'u1.test']):\n",
    "            edges_df = pd.read_csv(\n",
    "                osp.join(self.raw_dir, raw_path),\n",
    "                sep='\\t',\n",
    "                header=None,\n",
    "                names=['userId', 'movieId', 'rating', 'timestamp'],\n",
    "            )\n",
    "            src = edges_df['userId'].values - 1  # Adjusting index to start from 0\n",
    "            dst = edges_df['movieId'].values - 1  # Adjusting index to start from 0\n",
    "            index = torch.tensor(np.array([src, dst]))\n",
    "            data['user', 'rates', 'movie'][edge_attr] = index\n",
    "            if edge_attr == 'edge_index':\n",
    "                data['movie', 'rated_by', 'user'][edge_attr] = index.flip([0])\n",
    "\n",
    "        if self.pre_transform is not None:\n",
    "            data = self.pre_transform(data)\n",
    "\n",
    "        self.save([data], self.processed_paths[0])\n"
   ]
  },
  {
   "cell_type": "code",
   "execution_count": 3,
   "metadata": {},
   "outputs": [
    {
     "name": "stdout",
     "output_type": "stream",
     "text": [
      "Data(edge_index=[2, 160000], edge_label_index=[2, 20000], node_type=[2625], edge_type=[160000])\n"
     ]
    }
   ],
   "source": [
    "device = torch.device('cuda' if torch.cuda.is_available() else 'cpu')\n",
    "\n",
    "path = osp.join(osp.dirname(osp.realpath('projectFINAL.ipynb')), '', 'data', 'MovieLens')\n",
    "dataset = MovieLens100K(path)\n",
    "data = dataset[0]\n",
    "num_users, num_movies = data['user'].num_nodes, data['movie'].num_nodes\n",
    "data = data.to_homogeneous().to(device)\n",
    "print(data)"
   ]
  },
  {
   "cell_type": "code",
   "execution_count": 4,
   "metadata": {},
   "outputs": [],
   "source": [
    "from torch import Tensor\n",
    "from torch_geometric.typing import Adj, OptTensor\n",
    "from torch_geometric.utils import is_sparse, to_edge_index\n",
    "from typing import List\n",
    "\n",
    "class ResidualLightGCN(LightGCN):\n",
    "    def __init__(self, *args, **kwargs):\n",
    "        super().__init__(*args, **kwargs)\n",
    "\n",
    "    def get_embeddings_per_layer(\n",
    "        self,\n",
    "        edge_index: Adj,\n",
    "        edge_weight: OptTensor = None,\n",
    "    ) -> List[Tensor]:\n",
    "        \"\"\"Returns the embeddings of nodes in the graph for each layer.\"\"\"\n",
    "        x = self.embedding.weight\n",
    "        embeddings = [x]\n",
    "\n",
    "        for i in range(self.num_layers):\n",
    "            x = self.convs[i](x, edge_index, edge_weight)\n",
    "            embeddings.append(x)\n",
    "\n",
    "        return embeddings\n",
    "\n",
    "    def forward(\n",
    "        self,\n",
    "        edge_index: Adj,\n",
    "        edge_label_index: OptTensor = None,\n",
    "        edge_weight: OptTensor = None,\n",
    "    ) -> Tensor:\n",
    "        r\"\"\"Computes rankings for pairs of nodes.\n",
    "\n",
    "        Args:\n",
    "            edge_index (torch.Tensor or SparseTensor): Edge tensor specifying\n",
    "                the connectivity of the graph.\n",
    "            edge_label_index (torch.Tensor, optional): Edge tensor specifying\n",
    "                the node pairs for which to compute rankings or probabilities.\n",
    "                If :obj:`edge_label_index` is set to :obj:`None`, all edges in\n",
    "                :obj:`edge_index` will be used instead. (default: :obj:`None`)\n",
    "            edge_weight (torch.Tensor, optional): The weight of each edge in\n",
    "                :obj:`edge_index`. (default: :obj:`None`)\n",
    "        \"\"\"\n",
    "        if edge_label_index is None:\n",
    "            if is_sparse(edge_index):\n",
    "                edge_label_index, _ = to_edge_index(edge_index)\n",
    "            else:\n",
    "                edge_label_index = edge_index\n",
    "\n",
    "        embeddings = self.get_embeddings_per_layer(edge_index, edge_weight)\n",
    "\n",
    "        pred = torch.zeros(edge_label_index.size(1), device=edge_index.device)\n",
    "        for i, alpha in enumerate(self.alpha):\n",
    "            out_src = embeddings[i][edge_label_index[0]]\n",
    "            out_dst = embeddings[i][edge_label_index[1]]\n",
    "            pred += alpha * (out_src * out_dst).sum(dim=-1)\n",
    "\n",
    "        return pred\n",
    "    \n",
    "    def recommend(\n",
    "        self,\n",
    "        edge_index: Adj,\n",
    "        edge_weight: OptTensor = None,\n",
    "        src_index: OptTensor = None,\n",
    "        dst_index: OptTensor = None,\n",
    "        k: int = 1,\n",
    "        sorted: bool = True,\n",
    "    ) -> Tensor:\n",
    "        r\"\"\"Get top-:math:`k` recommendations for nodes in :obj:`src_index`.\n",
    "\n",
    "        Args:\n",
    "            edge_index (torch.Tensor or SparseTensor): Edge tensor specifying\n",
    "                the connectivity of the graph.\n",
    "            edge_weight (torch.Tensor, optional): The weight of each edge in\n",
    "                :obj:`edge_index`. (default: :obj:`None`)\n",
    "            src_index (torch.Tensor, optional): Node indices for which\n",
    "                recommendations should be generated.\n",
    "                If set to :obj:`None`, all nodes will be used.\n",
    "                (default: :obj:`None`)\n",
    "            dst_index (torch.Tensor, optional): Node indices which represent\n",
    "                the possible recommendation choices.\n",
    "                If set to :obj:`None`, all nodes will be used.\n",
    "                (default: :obj:`None`)\n",
    "            k (int, optional): Number of recommendations. (default: :obj:`1`)\n",
    "            sorted (bool, optional): Whether to sort the recommendations\n",
    "                by score. (default: :obj:`True`)\n",
    "        \"\"\"\n",
    "        embeddings = self.get_embeddings_per_layer(edge_index, edge_weight)\n",
    "\n",
    "        out_src = out_dst = sum(alpha * emb for alpha, emb in zip(self.alpha, embeddings))\n",
    "\n",
    "        if src_index is not None:\n",
    "            out_src = out_src[src_index]\n",
    "\n",
    "        if dst_index is not None:\n",
    "            out_dst = out_dst[dst_index]\n",
    "\n",
    "        pred = out_src @ out_dst.t()\n",
    "        top_index = pred.topk(k, dim=-1, sorted=sorted).indices\n",
    "\n",
    "        if dst_index is not None:\n",
    "            top_index = dst_index[top_index.view(-1)].view(*top_index.size())\n",
    "\n",
    "        return top_index\n"
   ]
  },
  {
   "cell_type": "code",
   "execution_count": 5,
   "metadata": {},
   "outputs": [
    {
     "name": "stdout",
     "output_type": "stream",
     "text": [
      "Data(edge_label_index=[2, 20000], node_type=[2625], edge_type=[160000], val_pos_edge_index=[2, 8000], test_pos_edge_index=[2, 8000], train_pos_edge_index=[2, 128000], train_neg_adj_mask=[2625, 2625], val_neg_edge_index=[2, 8000], test_neg_edge_index=[2, 8000])\n"
     ]
    },
    {
     "name": "stderr",
     "output_type": "stream",
     "text": [
      "/Library/Frameworks/Python.framework/Versions/3.10/lib/python3.10/site-packages/torch_geometric/deprecation.py:26: UserWarning: 'train_test_split_edges' is deprecated, use 'transforms.RandomLinkSplit' instead\n",
      "  warnings.warn(out)\n"
     ]
    }
   ],
   "source": [
    "# Split edges into train/val/test sets\n",
    "data = train_test_split_edges(data, val_ratio=0.1, test_ratio=0.1)\n",
    "print(data)\n",
    "\n",
    "train_edge_index = data.train_pos_edge_index\n",
    "val_edge_index = data.val_pos_edge_index\n",
    "test_edge_index = data.test_pos_edge_index\n",
    "\n",
    "batch_size = 512\n",
    "mask = train_edge_index[0] < train_edge_index[1]\n",
    "train_edge_label_index = train_edge_index[:, mask]\n",
    "train_loader = torch.utils.data.DataLoader(\n",
    "    range(train_edge_label_index.size(1)),\n",
    "    shuffle=True,\n",
    "    batch_size=batch_size,\n",
    ")\n",
    "\n",
    "model = ResidualLightGCN(\n",
    "    num_nodes=data.num_nodes,\n",
    "    embedding_dim=64,\n",
    "    num_layers=2,\n",
    ").to(device)\n",
    "optimizer = torch.optim.Adam(model.parameters(), lr=0.001)"
   ]
  },
  {
   "cell_type": "code",
   "execution_count": 12,
   "metadata": {},
   "outputs": [],
   "source": [
    "def train():\n",
    "    model.train()\n",
    "    total_loss = total_examples = 0\n",
    "\n",
    "    for index in tqdm(train_loader):\n",
    "        pos_edge_label_index = train_edge_label_index[:, index]\n",
    "        neg_edge_label_index = torch.stack([\n",
    "            pos_edge_label_index[0],\n",
    "            torch.randint(num_users, num_users + num_movies,\n",
    "                          (index.numel(), ), device=device)\n",
    "        ], dim=0)\n",
    "        edge_label_index = torch.cat([\n",
    "            pos_edge_label_index,\n",
    "            neg_edge_label_index,\n",
    "        ], dim=1)\n",
    "\n",
    "        optimizer.zero_grad()\n",
    "        pos_rank, neg_rank = model(data.train_pos_edge_index, edge_label_index).chunk(2)\n",
    "\n",
    "        loss = model.recommendation_loss(\n",
    "            pos_rank,\n",
    "            neg_rank,\n",
    "            node_id=edge_label_index.unique(),\n",
    "        )\n",
    "        loss.backward()\n",
    "        optimizer.step()\n",
    "\n",
    "        total_loss += float(loss) * pos_rank.numel()\n",
    "        total_examples += pos_rank.numel()\n",
    "\n",
    "    return total_loss / total_examples\n",
    "\n",
    "@torch.no_grad()\n",
    "def test(edge_index, k: int):\n",
    "    model.eval()\n",
    "    embeddings_per_layer = model.get_embeddings_per_layer(data.train_pos_edge_index)\n",
    "    num_layers = len(embeddings_per_layer)\n",
    "\n",
    "    emb = sum(model.alpha[i] * embeddings_per_layer[i] for i in range(num_layers))\n",
    "    user_emb, movie_emb = emb[:num_users], emb[num_users:]\n",
    "\n",
    "    precision = recall = total_examples = total_loss = 0\n",
    "    for start in range(0, num_users, batch_size):\n",
    "        end = start + batch_size\n",
    "        logits = user_emb[start:end] @ movie_emb.t()\n",
    "\n",
    "        mask = ((train_edge_label_index[0] >= start) &\n",
    "                (train_edge_label_index[0] < end))\n",
    "        logits[train_edge_label_index[0, mask] - start,\n",
    "               train_edge_label_index[1, mask] - num_users] = float('-inf')\n",
    "\n",
    "        ground_truth = torch.zeros_like(logits, dtype=torch.bool)\n",
    "        mask = ((edge_index[0] >= start) & (edge_index[0] < end))\n",
    "        ground_truth[edge_index[0, mask] - start,\n",
    "                     edge_index[1, mask] - num_users] = True\n",
    "        node_count = degree(edge_index[0, mask] - start,\n",
    "                            num_nodes=logits.size(0))\n",
    "\n",
    "        topk_index = logits.topk(k, dim=-1).indices\n",
    "        isin_mat = ground_truth.gather(1, topk_index)\n",
    "\n",
    "        precision += float((isin_mat.sum(dim=-1) / k).sum())\n",
    "        recall += float((isin_mat.sum(dim=-1) / node_count.clamp(1e-6)).sum())\n",
    "        total_examples += int((node_count > 0).sum())\n",
    "\n",
    "        # Calculate loss\n",
    "        pos_edge_index = edge_index[:, mask]\n",
    "        neg_edge_index = torch.stack([\n",
    "            pos_edge_index[0],\n",
    "            torch.randint(num_users, num_users + num_movies,\n",
    "                          (pos_edge_index.size(1),), device=device)\n",
    "        ], dim=0)\n",
    "        eval_edge_index = torch.cat([pos_edge_index, neg_edge_index], dim=1)\n",
    "\n",
    "        pos_rank, neg_rank = model(data.train_pos_edge_index, eval_edge_index).chunk(2)\n",
    "        loss = model.recommendation_loss(\n",
    "            pos_rank,\n",
    "            neg_rank,\n",
    "            node_id=eval_edge_index.unique(),\n",
    "        )\n",
    "        total_loss += float(loss) * pos_rank.numel()\n",
    "\n",
    "    return total_loss / total_examples, precision / total_examples, recall / total_examples\n"
   ]
  },
  {
   "cell_type": "code",
   "execution_count": 13,
   "metadata": {},
   "outputs": [
    {
     "name": "stderr",
     "output_type": "stream",
     "text": [
      "100%|██████████| 125/125 [00:06<00:00, 17.86it/s]\n"
     ]
    },
    {
     "name": "stdout",
     "output_type": "stream",
     "text": [
      "Epoch: 001, Train Loss: 0.3101, Val Precision@20: 0.0849, Val Recall@20: 0.2503, Val Loss: 2.9345\n"
     ]
    },
    {
     "name": "stderr",
     "output_type": "stream",
     "text": [
      "100%|██████████| 125/125 [00:06<00:00, 18.05it/s]\n"
     ]
    },
    {
     "name": "stdout",
     "output_type": "stream",
     "text": [
      "Epoch: 002, Train Loss: 0.3022, Val Precision@20: 0.0865, Val Recall@20: 0.2549, Val Loss: 2.9296\n"
     ]
    },
    {
     "name": "stderr",
     "output_type": "stream",
     "text": [
      "100%|██████████| 125/125 [00:05<00:00, 22.00it/s]\n"
     ]
    },
    {
     "name": "stdout",
     "output_type": "stream",
     "text": [
      "Epoch: 003, Train Loss: 0.3004, Val Precision@20: 0.0867, Val Recall@20: 0.2569, Val Loss: 2.9607\n"
     ]
    },
    {
     "name": "stderr",
     "output_type": "stream",
     "text": [
      "100%|██████████| 125/125 [00:06<00:00, 20.31it/s]\n"
     ]
    },
    {
     "name": "stdout",
     "output_type": "stream",
     "text": [
      "Epoch: 004, Train Loss: 0.3007, Val Precision@20: 0.0869, Val Recall@20: 0.2537, Val Loss: 2.9104\n"
     ]
    },
    {
     "name": "stderr",
     "output_type": "stream",
     "text": [
      "100%|██████████| 125/125 [00:05<00:00, 20.98it/s]\n"
     ]
    },
    {
     "name": "stdout",
     "output_type": "stream",
     "text": [
      "Epoch: 005, Train Loss: 0.2948, Val Precision@20: 0.0877, Val Recall@20: 0.2589, Val Loss: 2.9457\n"
     ]
    },
    {
     "name": "stderr",
     "output_type": "stream",
     "text": [
      "100%|██████████| 125/125 [00:06<00:00, 18.85it/s]\n"
     ]
    },
    {
     "name": "stdout",
     "output_type": "stream",
     "text": [
      "Epoch: 006, Train Loss: 0.2924, Val Precision@20: 0.0880, Val Recall@20: 0.2613, Val Loss: 2.8759\n"
     ]
    },
    {
     "name": "stderr",
     "output_type": "stream",
     "text": [
      " 23%|██▎       | 29/125 [00:02<00:06, 13.89it/s]\n"
     ]
    },
    {
     "ename": "KeyboardInterrupt",
     "evalue": "",
     "output_type": "error",
     "traceback": [
      "\u001b[0;31m---------------------------------------------------------------------------\u001b[0m",
      "\u001b[0;31mKeyboardInterrupt\u001b[0m                         Traceback (most recent call last)",
      "Input \u001b[0;32mIn [13]\u001b[0m, in \u001b[0;36m<cell line: 10>\u001b[0;34m()\u001b[0m\n\u001b[1;32m      8\u001b[0m val_losses \u001b[38;5;241m=\u001b[39m []\n\u001b[1;32m     10\u001b[0m \u001b[38;5;28;01mfor\u001b[39;00m epoch \u001b[38;5;129;01min\u001b[39;00m \u001b[38;5;28mrange\u001b[39m(\u001b[38;5;241m1\u001b[39m, \u001b[38;5;241m30\u001b[39m):\n\u001b[0;32m---> 11\u001b[0m     loss \u001b[38;5;241m=\u001b[39m \u001b[43mtrain\u001b[49m\u001b[43m(\u001b[49m\u001b[43m)\u001b[49m\n\u001b[1;32m     12\u001b[0m     val_loss, val_precision, val_recall \u001b[38;5;241m=\u001b[39m test(val_edge_index, k\u001b[38;5;241m=\u001b[39m\u001b[38;5;241m20\u001b[39m)\n\u001b[1;32m     13\u001b[0m     \u001b[38;5;28mprint\u001b[39m(\u001b[38;5;124mf\u001b[39m\u001b[38;5;124m'\u001b[39m\u001b[38;5;124mEpoch: \u001b[39m\u001b[38;5;132;01m{\u001b[39;00mepoch\u001b[38;5;132;01m:\u001b[39;00m\u001b[38;5;124m03d\u001b[39m\u001b[38;5;132;01m}\u001b[39;00m\u001b[38;5;124m, Train Loss: \u001b[39m\u001b[38;5;132;01m{\u001b[39;00mloss\u001b[38;5;132;01m:\u001b[39;00m\u001b[38;5;124m.4f\u001b[39m\u001b[38;5;132;01m}\u001b[39;00m\u001b[38;5;124m, Val Precision@20: \u001b[39m\u001b[38;5;124m'\u001b[39m\n\u001b[1;32m     14\u001b[0m           \u001b[38;5;124mf\u001b[39m\u001b[38;5;124m'\u001b[39m\u001b[38;5;132;01m{\u001b[39;00mval_precision\u001b[38;5;132;01m:\u001b[39;00m\u001b[38;5;124m.4f\u001b[39m\u001b[38;5;132;01m}\u001b[39;00m\u001b[38;5;124m, Val Recall@20: \u001b[39m\u001b[38;5;132;01m{\u001b[39;00mval_recall\u001b[38;5;132;01m:\u001b[39;00m\u001b[38;5;124m.4f\u001b[39m\u001b[38;5;132;01m}\u001b[39;00m\u001b[38;5;124m, \u001b[39m\u001b[38;5;124m'\u001b[39m\n\u001b[1;32m     15\u001b[0m           \u001b[38;5;124mf\u001b[39m\u001b[38;5;124m'\u001b[39m\u001b[38;5;124mVal Loss: \u001b[39m\u001b[38;5;132;01m{\u001b[39;00mval_loss\u001b[38;5;132;01m:\u001b[39;00m\u001b[38;5;124m.4f\u001b[39m\u001b[38;5;132;01m}\u001b[39;00m\u001b[38;5;124m'\u001b[39m)\n",
      "Input \u001b[0;32mIn [12]\u001b[0m, in \u001b[0;36mtrain\u001b[0;34m()\u001b[0m\n\u001b[1;32m     18\u001b[0m pos_rank, neg_rank \u001b[38;5;241m=\u001b[39m model(data\u001b[38;5;241m.\u001b[39mtrain_pos_edge_index, edge_label_index)\u001b[38;5;241m.\u001b[39mchunk(\u001b[38;5;241m2\u001b[39m)\n\u001b[1;32m     20\u001b[0m loss \u001b[38;5;241m=\u001b[39m model\u001b[38;5;241m.\u001b[39mrecommendation_loss(\n\u001b[1;32m     21\u001b[0m     pos_rank,\n\u001b[1;32m     22\u001b[0m     neg_rank,\n\u001b[1;32m     23\u001b[0m     node_id\u001b[38;5;241m=\u001b[39medge_label_index\u001b[38;5;241m.\u001b[39munique(),\n\u001b[1;32m     24\u001b[0m )\n\u001b[0;32m---> 25\u001b[0m \u001b[43mloss\u001b[49m\u001b[38;5;241;43m.\u001b[39;49m\u001b[43mbackward\u001b[49m\u001b[43m(\u001b[49m\u001b[43m)\u001b[49m\n\u001b[1;32m     26\u001b[0m optimizer\u001b[38;5;241m.\u001b[39mstep()\n\u001b[1;32m     28\u001b[0m total_loss \u001b[38;5;241m+\u001b[39m\u001b[38;5;241m=\u001b[39m \u001b[38;5;28mfloat\u001b[39m(loss) \u001b[38;5;241m*\u001b[39m pos_rank\u001b[38;5;241m.\u001b[39mnumel()\n",
      "File \u001b[0;32m/Library/Frameworks/Python.framework/Versions/3.10/lib/python3.10/site-packages/torch/_tensor.py:487\u001b[0m, in \u001b[0;36mTensor.backward\u001b[0;34m(self, gradient, retain_graph, create_graph, inputs)\u001b[0m\n\u001b[1;32m    477\u001b[0m \u001b[38;5;28;01mif\u001b[39;00m has_torch_function_unary(\u001b[38;5;28mself\u001b[39m):\n\u001b[1;32m    478\u001b[0m     \u001b[38;5;28;01mreturn\u001b[39;00m handle_torch_function(\n\u001b[1;32m    479\u001b[0m         Tensor\u001b[38;5;241m.\u001b[39mbackward,\n\u001b[1;32m    480\u001b[0m         (\u001b[38;5;28mself\u001b[39m,),\n\u001b[0;32m   (...)\u001b[0m\n\u001b[1;32m    485\u001b[0m         inputs\u001b[38;5;241m=\u001b[39minputs,\n\u001b[1;32m    486\u001b[0m     )\n\u001b[0;32m--> 487\u001b[0m \u001b[43mtorch\u001b[49m\u001b[38;5;241;43m.\u001b[39;49m\u001b[43mautograd\u001b[49m\u001b[38;5;241;43m.\u001b[39;49m\u001b[43mbackward\u001b[49m\u001b[43m(\u001b[49m\n\u001b[1;32m    488\u001b[0m \u001b[43m    \u001b[49m\u001b[38;5;28;43mself\u001b[39;49m\u001b[43m,\u001b[49m\u001b[43m \u001b[49m\u001b[43mgradient\u001b[49m\u001b[43m,\u001b[49m\u001b[43m \u001b[49m\u001b[43mretain_graph\u001b[49m\u001b[43m,\u001b[49m\u001b[43m \u001b[49m\u001b[43mcreate_graph\u001b[49m\u001b[43m,\u001b[49m\u001b[43m \u001b[49m\u001b[43minputs\u001b[49m\u001b[38;5;241;43m=\u001b[39;49m\u001b[43minputs\u001b[49m\n\u001b[1;32m    489\u001b[0m \u001b[43m\u001b[49m\u001b[43m)\u001b[49m\n",
      "File \u001b[0;32m/Library/Frameworks/Python.framework/Versions/3.10/lib/python3.10/site-packages/torch/autograd/__init__.py:200\u001b[0m, in \u001b[0;36mbackward\u001b[0;34m(tensors, grad_tensors, retain_graph, create_graph, grad_variables, inputs)\u001b[0m\n\u001b[1;32m    195\u001b[0m     retain_graph \u001b[38;5;241m=\u001b[39m create_graph\n\u001b[1;32m    197\u001b[0m \u001b[38;5;66;03m# The reason we repeat same the comment below is that\u001b[39;00m\n\u001b[1;32m    198\u001b[0m \u001b[38;5;66;03m# some Python versions print out the first line of a multi-line function\u001b[39;00m\n\u001b[1;32m    199\u001b[0m \u001b[38;5;66;03m# calls in the traceback and some print out the last line\u001b[39;00m\n\u001b[0;32m--> 200\u001b[0m \u001b[43mVariable\u001b[49m\u001b[38;5;241;43m.\u001b[39;49m\u001b[43m_execution_engine\u001b[49m\u001b[38;5;241;43m.\u001b[39;49m\u001b[43mrun_backward\u001b[49m\u001b[43m(\u001b[49m\u001b[43m  \u001b[49m\u001b[38;5;66;43;03m# Calls into the C++ engine to run the backward pass\u001b[39;49;00m\n\u001b[1;32m    201\u001b[0m \u001b[43m    \u001b[49m\u001b[43mtensors\u001b[49m\u001b[43m,\u001b[49m\u001b[43m \u001b[49m\u001b[43mgrad_tensors_\u001b[49m\u001b[43m,\u001b[49m\u001b[43m \u001b[49m\u001b[43mretain_graph\u001b[49m\u001b[43m,\u001b[49m\u001b[43m \u001b[49m\u001b[43mcreate_graph\u001b[49m\u001b[43m,\u001b[49m\u001b[43m \u001b[49m\u001b[43minputs\u001b[49m\u001b[43m,\u001b[49m\n\u001b[1;32m    202\u001b[0m \u001b[43m    \u001b[49m\u001b[43mallow_unreachable\u001b[49m\u001b[38;5;241;43m=\u001b[39;49m\u001b[38;5;28;43;01mTrue\u001b[39;49;00m\u001b[43m,\u001b[49m\u001b[43m \u001b[49m\u001b[43maccumulate_grad\u001b[49m\u001b[38;5;241;43m=\u001b[39;49m\u001b[38;5;28;43;01mTrue\u001b[39;49;00m\u001b[43m)\u001b[49m\n",
      "\u001b[0;31mKeyboardInterrupt\u001b[0m: "
     ]
    }
   ],
   "source": [
    "patience = 10  # Number of epochs to wait for improvement\n",
    "best_val_recall = 0\n",
    "best_epoch = 0\n",
    "patience_counter = 0\n",
    "best_model_path = 'best_model_ResidualLightGCN.pth'\n",
    "\n",
    "train_losses = []\n",
    "val_losses = []\n",
    "\n",
    "n_epochs = 50\n",
    "\n",
    "for epoch in range(1, n_epochs + 1):\n",
    "    loss = train()\n",
    "    val_loss, val_precision, val_recall = test(val_edge_index, k=20)\n",
    "    print(f'Epoch: {epoch:03d}, Train Loss: {loss:.4f}, Val Precision@20: '\n",
    "          f'{val_precision:.4f}, Val Recall@20: {val_recall:.4f}, '\n",
    "          f'Val Loss: {val_loss:.4f}')\n",
    "    \n",
    "    train_losses.append(loss)\n",
    "    val_losses.append(val_loss)\n",
    "    \n",
    "    # Early stopping logic\n",
    "    if val_recall > best_val_recall:\n",
    "        best_val_recall = val_recall\n",
    "        best_epoch = epoch\n",
    "        patience_counter = 0\n",
    "        torch.save(model.state_dict(), best_model_path)\n",
    "    else:\n",
    "        patience_counter += 1\n",
    "\n",
    "    if patience_counter >= patience:\n",
    "        print(f'Early stopping at epoch {epoch}. Best epoch: {best_epoch} with Val Recall@20: {best_val_recall:.4f}')\n",
    "        break\n",
    "    \n"
   ]
  },
  {
   "cell_type": "code",
   "execution_count": 8,
   "metadata": {},
   "outputs": [
    {
     "data": {
      "image/png": "[encoded data removed]",
      "text/plain": [
       "<Figure size 432x288 with 1 Axes>"
      ]
     },
     "metadata": {
      "needs_background": "light"
     },
     "output_type": "display_data"
    }
   ],
   "source": [
    "import matplotlib.pyplot as plt\n",
    "\n",
    "plt.plot(train_losses, label='Train Loss')\n",
    "plt.plot(val_losses, label='Val Loss')\n",
    "plt.xlabel('Epoch')\n",
    "plt.ylabel('Loss')\n",
    "plt.legend()\n",
    "plt.show()\n"
   ]
  },
  {
   "cell_type": "code",
   "execution_count": 10,
   "metadata": {},
   "outputs": [
    {
     "name": "stdout",
     "output_type": "stream",
     "text": [
      "Test Precision@20: 0.0890, Test Recall@20: 0.2591\n"
     ]
    }
   ],
   "source": [
    "model.load_state_dict(torch.load(best_model_path))\n",
    "test_loss, test_precision, test_recall = test(test_edge_index, k=20)\n",
    "print(f'Test Precision@20: {test_precision:.4f}, Test Recall@20: {test_recall:.4f}')"
   ]
  },
  {
   "cell_type": "markdown",
   "metadata": {},
   "source": [
    "### Train and evaluate regular LightGCN model for comparison"
   ]
  },
  {
   "cell_type": "code",
   "execution_count": 14,
   "metadata": {},
   "outputs": [],
   "source": [
    "model = LightGCN(\n",
    "    num_nodes=data.num_nodes,\n",
    "    embedding_dim=64,\n",
    "    num_layers=2,\n",
    ").to(device)\n",
    "optimizer = torch.optim.Adam(model.parameters(), lr=0.001)"
   ]
  },
  {
   "cell_type": "code",
   "execution_count": 17,
   "metadata": {},
   "outputs": [],
   "source": [
    "def train_LightGCN():\n",
    "    model.train()\n",
    "    total_loss = total_examples = 0\n",
    "\n",
    "    for index in tqdm(train_loader):\n",
    "        pos_edge_label_index = train_edge_label_index[:, index]\n",
    "        neg_edge_label_index = torch.stack([\n",
    "            pos_edge_label_index[0],\n",
    "            torch.randint(num_users, num_users + num_movies,\n",
    "                          (index.numel(), ), device=device)\n",
    "        ], dim=0)\n",
    "        edge_label_index = torch.cat([\n",
    "            pos_edge_label_index,\n",
    "            neg_edge_label_index,\n",
    "        ], dim=1)\n",
    "\n",
    "        optimizer.zero_grad()\n",
    "        pos_rank, neg_rank = model(data.train_pos_edge_index, edge_label_index).chunk(2)\n",
    "\n",
    "        loss = model.recommendation_loss(\n",
    "            pos_rank,\n",
    "            neg_rank,\n",
    "            node_id=edge_label_index.unique(),\n",
    "        )\n",
    "        loss.backward()\n",
    "        optimizer.step()\n",
    "\n",
    "        total_loss += float(loss) * pos_rank.numel()\n",
    "        total_examples += pos_rank.numel()\n",
    "\n",
    "    return total_loss / total_examples\n",
    "\n",
    "@torch.no_grad()\n",
    "def test_LightGCN(edge_index, k: int):\n",
    "    model.eval()\n",
    "    emb = model.get_embedding(data.train_pos_edge_index)\n",
    "    user_emb, movie_emb = emb[:num_users], emb[num_users:]\n",
    "\n",
    "    precision = recall = total_examples = total_loss = 0\n",
    "    for start in range(0, num_users, batch_size):\n",
    "        end = start + batch_size\n",
    "        logits = user_emb[start:end] @ movie_emb.t()\n",
    "\n",
    "        mask = ((train_edge_label_index[0] >= start) &\n",
    "                (train_edge_label_index[0] < end))\n",
    "        logits[train_edge_label_index[0, mask] - start,\n",
    "               train_edge_label_index[1, mask] - num_users] = float('-inf')\n",
    "\n",
    "        ground_truth = torch.zeros_like(logits, dtype=torch.bool)\n",
    "        mask = ((edge_index[0] >= start) & (edge_index[0] < end))\n",
    "        ground_truth[edge_index[0, mask] - start,\n",
    "                     edge_index[1, mask] - num_users] = True\n",
    "        node_count = degree(edge_index[0, mask] - start,\n",
    "                            num_nodes=logits.size(0))\n",
    "\n",
    "        topk_index = logits.topk(k, dim=-1).indices\n",
    "        isin_mat = ground_truth.gather(1, topk_index)\n",
    "\n",
    "        precision += float((isin_mat.sum(dim=-1) / k).sum())\n",
    "        recall += float((isin_mat.sum(dim=-1) / node_count.clamp(1e-6)).sum())\n",
    "        total_examples += int((node_count > 0).sum())\n",
    "\n",
    "        # Calculate loss\n",
    "        pos_edge_index = edge_index[:, mask]\n",
    "        neg_edge_index = torch.stack([\n",
    "            pos_edge_index[0],\n",
    "            torch.randint(num_users, num_users + num_movies,\n",
    "                          (pos_edge_index.size(1),), device=device)\n",
    "        ], dim=0)\n",
    "        eval_edge_index = torch.cat([pos_edge_index, neg_edge_index], dim=1)\n",
    "\n",
    "        pos_rank, neg_rank = model(data.train_pos_edge_index, eval_edge_index).chunk(2)\n",
    "        loss = model.recommendation_loss(\n",
    "            pos_rank,\n",
    "            neg_rank,\n",
    "            node_id=eval_edge_index.unique(),\n",
    "        )\n",
    "        total_loss += float(loss) * pos_rank.numel()\n",
    "\n",
    "    return total_loss / total_examples, precision / total_examples, recall / total_examples\n"
   ]
  },
  {
   "cell_type": "code",
   "execution_count": 18,
   "metadata": {},
   "outputs": [
    {
     "name": "stderr",
     "output_type": "stream",
     "text": [
      "100%|██████████| 125/125 [00:06<00:00, 19.97it/s]\n"
     ]
    },
    {
     "name": "stdout",
     "output_type": "stream",
     "text": [
      "Epoch: 001, Train Loss: 0.4511, Val Precision@20: 0.0596, Val Recall@20: 0.1753, Val Loss: 3.7583\n"
     ]
    },
    {
     "name": "stderr",
     "output_type": "stream",
     "text": [
      "100%|██████████| 125/125 [00:06<00:00, 20.80it/s]\n"
     ]
    },
    {
     "name": "stdout",
     "output_type": "stream",
     "text": [
      "Epoch: 002, Train Loss: 0.4085, Val Precision@20: 0.0632, Val Recall@20: 0.1860, Val Loss: 3.7085\n"
     ]
    },
    {
     "name": "stderr",
     "output_type": "stream",
     "text": [
      "100%|██████████| 125/125 [00:05<00:00, 21.64it/s]\n"
     ]
    },
    {
     "name": "stdout",
     "output_type": "stream",
     "text": [
      "Epoch: 003, Train Loss: 0.4019, Val Precision@20: 0.0669, Val Recall@20: 0.2033, Val Loss: 3.6454\n"
     ]
    },
    {
     "name": "stderr",
     "output_type": "stream",
     "text": [
      "100%|██████████| 125/125 [00:05<00:00, 21.47it/s]\n"
     ]
    },
    {
     "name": "stdout",
     "output_type": "stream",
     "text": [
      "Epoch: 004, Train Loss: 0.3891, Val Precision@20: 0.0713, Val Recall@20: 0.2195, Val Loss: 3.5171\n"
     ]
    },
    {
     "name": "stderr",
     "output_type": "stream",
     "text": [
      "100%|██████████| 125/125 [00:05<00:00, 21.86it/s]\n"
     ]
    },
    {
     "name": "stdout",
     "output_type": "stream",
     "text": [
      "Epoch: 005, Train Loss: 0.3764, Val Precision@20: 0.0760, Val Recall@20: 0.2331, Val Loss: 3.4451\n"
     ]
    },
    {
     "name": "stderr",
     "output_type": "stream",
     "text": [
      "100%|██████████| 125/125 [00:05<00:00, 21.81it/s]\n"
     ]
    },
    {
     "name": "stdout",
     "output_type": "stream",
     "text": [
      "Epoch: 006, Train Loss: 0.3666, Val Precision@20: 0.0780, Val Recall@20: 0.2421, Val Loss: 3.3416\n"
     ]
    },
    {
     "name": "stderr",
     "output_type": "stream",
     "text": [
      "100%|██████████| 125/125 [00:05<00:00, 22.13it/s]\n"
     ]
    },
    {
     "name": "stdout",
     "output_type": "stream",
     "text": [
      "Epoch: 007, Train Loss: 0.3597, Val Precision@20: 0.0789, Val Recall@20: 0.2433, Val Loss: 3.3257\n"
     ]
    },
    {
     "name": "stderr",
     "output_type": "stream",
     "text": [
      "100%|██████████| 125/125 [00:05<00:00, 21.77it/s]\n"
     ]
    },
    {
     "name": "stdout",
     "output_type": "stream",
     "text": [
      "Epoch: 008, Train Loss: 0.3519, Val Precision@20: 0.0803, Val Recall@20: 0.2425, Val Loss: 3.2766\n"
     ]
    },
    {
     "name": "stderr",
     "output_type": "stream",
     "text": [
      "100%|██████████| 125/125 [00:05<00:00, 22.95it/s]\n"
     ]
    },
    {
     "name": "stdout",
     "output_type": "stream",
     "text": [
      "Epoch: 009, Train Loss: 0.3457, Val Precision@20: 0.0805, Val Recall@20: 0.2417, Val Loss: 3.2148\n"
     ]
    },
    {
     "name": "stderr",
     "output_type": "stream",
     "text": [
      "100%|██████████| 125/125 [00:05<00:00, 21.81it/s]\n"
     ]
    },
    {
     "name": "stdout",
     "output_type": "stream",
     "text": [
      "Epoch: 010, Train Loss: 0.3404, Val Precision@20: 0.0798, Val Recall@20: 0.2386, Val Loss: 3.1904\n"
     ]
    },
    {
     "name": "stderr",
     "output_type": "stream",
     "text": [
      "100%|██████████| 125/125 [00:06<00:00, 20.43it/s]\n"
     ]
    },
    {
     "name": "stdout",
     "output_type": "stream",
     "text": [
      "Epoch: 011, Train Loss: 0.3371, Val Precision@20: 0.0803, Val Recall@20: 0.2408, Val Loss: 3.0691\n"
     ]
    },
    {
     "name": "stderr",
     "output_type": "stream",
     "text": [
      "100%|██████████| 125/125 [00:06<00:00, 20.67it/s]\n"
     ]
    },
    {
     "name": "stdout",
     "output_type": "stream",
     "text": [
      "Epoch: 012, Train Loss: 0.3342, Val Precision@20: 0.0804, Val Recall@20: 0.2413, Val Loss: 3.0856\n"
     ]
    },
    {
     "name": "stderr",
     "output_type": "stream",
     "text": [
      "100%|██████████| 125/125 [00:06<00:00, 20.78it/s]\n"
     ]
    },
    {
     "name": "stdout",
     "output_type": "stream",
     "text": [
      "Epoch: 013, Train Loss: 0.3345, Val Precision@20: 0.0807, Val Recall@20: 0.2442, Val Loss: 3.0784\n"
     ]
    },
    {
     "name": "stderr",
     "output_type": "stream",
     "text": [
      "100%|██████████| 125/125 [00:05<00:00, 21.14it/s]\n"
     ]
    },
    {
     "name": "stdout",
     "output_type": "stream",
     "text": [
      "Epoch: 014, Train Loss: 0.3252, Val Precision@20: 0.0813, Val Recall@20: 0.2449, Val Loss: 3.1133\n"
     ]
    },
    {
     "name": "stderr",
     "output_type": "stream",
     "text": [
      "100%|██████████| 125/125 [00:05<00:00, 21.34it/s]\n"
     ]
    },
    {
     "name": "stdout",
     "output_type": "stream",
     "text": [
      "Epoch: 015, Train Loss: 0.3244, Val Precision@20: 0.0822, Val Recall@20: 0.2471, Val Loss: 3.0721\n"
     ]
    },
    {
     "name": "stderr",
     "output_type": "stream",
     "text": [
      "100%|██████████| 125/125 [00:05<00:00, 21.29it/s]\n"
     ]
    },
    {
     "name": "stdout",
     "output_type": "stream",
     "text": [
      "Epoch: 016, Train Loss: 0.3210, Val Precision@20: 0.0829, Val Recall@20: 0.2479, Val Loss: 3.0643\n"
     ]
    },
    {
     "name": "stderr",
     "output_type": "stream",
     "text": [
      "100%|██████████| 125/125 [00:05<00:00, 21.18it/s]\n"
     ]
    },
    {
     "name": "stdout",
     "output_type": "stream",
     "text": [
      "Epoch: 017, Train Loss: 0.3184, Val Precision@20: 0.0837, Val Recall@20: 0.2475, Val Loss: 3.0809\n"
     ]
    },
    {
     "name": "stderr",
     "output_type": "stream",
     "text": [
      "100%|██████████| 125/125 [00:05<00:00, 21.75it/s]\n"
     ]
    },
    {
     "name": "stdout",
     "output_type": "stream",
     "text": [
      "Epoch: 018, Train Loss: 0.3155, Val Precision@20: 0.0835, Val Recall@20: 0.2460, Val Loss: 3.0385\n"
     ]
    },
    {
     "name": "stderr",
     "output_type": "stream",
     "text": [
      "100%|██████████| 125/125 [00:05<00:00, 22.01it/s]\n"
     ]
    },
    {
     "name": "stdout",
     "output_type": "stream",
     "text": [
      "Epoch: 019, Train Loss: 0.3113, Val Precision@20: 0.0848, Val Recall@20: 0.2511, Val Loss: 2.9925\n"
     ]
    },
    {
     "name": "stderr",
     "output_type": "stream",
     "text": [
      "100%|██████████| 125/125 [00:05<00:00, 21.11it/s]\n"
     ]
    },
    {
     "name": "stdout",
     "output_type": "stream",
     "text": [
      "Epoch: 020, Train Loss: 0.3075, Val Precision@20: 0.0844, Val Recall@20: 0.2510, Val Loss: 2.9734\n"
     ]
    },
    {
     "name": "stderr",
     "output_type": "stream",
     "text": [
      "100%|██████████| 125/125 [00:05<00:00, 21.14it/s]\n"
     ]
    },
    {
     "name": "stdout",
     "output_type": "stream",
     "text": [
      "Epoch: 021, Train Loss: 0.3065, Val Precision@20: 0.0859, Val Recall@20: 0.2536, Val Loss: 2.9736\n"
     ]
    },
    {
     "name": "stderr",
     "output_type": "stream",
     "text": [
      "100%|██████████| 125/125 [00:07<00:00, 17.21it/s]\n"
     ]
    },
    {
     "name": "stdout",
     "output_type": "stream",
     "text": [
      "Epoch: 022, Train Loss: 0.3007, Val Precision@20: 0.0860, Val Recall@20: 0.2551, Val Loss: 2.9182\n"
     ]
    },
    {
     "name": "stderr",
     "output_type": "stream",
     "text": [
      "100%|██████████| 125/125 [00:06<00:00, 19.83it/s]\n"
     ]
    },
    {
     "name": "stdout",
     "output_type": "stream",
     "text": [
      "Epoch: 023, Train Loss: 0.2980, Val Precision@20: 0.0862, Val Recall@20: 0.2549, Val Loss: 2.9462\n"
     ]
    },
    {
     "name": "stderr",
     "output_type": "stream",
     "text": [
      "100%|██████████| 125/125 [00:05<00:00, 21.22it/s]\n"
     ]
    },
    {
     "name": "stdout",
     "output_type": "stream",
     "text": [
      "Epoch: 024, Train Loss: 0.2973, Val Precision@20: 0.0870, Val Recall@20: 0.2546, Val Loss: 2.9728\n"
     ]
    },
    {
     "name": "stderr",
     "output_type": "stream",
     "text": [
      "100%|██████████| 125/125 [00:05<00:00, 21.48it/s]\n"
     ]
    },
    {
     "name": "stdout",
     "output_type": "stream",
     "text": [
      "Epoch: 025, Train Loss: 0.2953, Val Precision@20: 0.0870, Val Recall@20: 0.2562, Val Loss: 2.8825\n"
     ]
    },
    {
     "name": "stderr",
     "output_type": "stream",
     "text": [
      "100%|██████████| 125/125 [00:05<00:00, 21.09it/s]\n"
     ]
    },
    {
     "name": "stdout",
     "output_type": "stream",
     "text": [
      "Epoch: 026, Train Loss: 0.2941, Val Precision@20: 0.0881, Val Recall@20: 0.2582, Val Loss: 2.8268\n"
     ]
    },
    {
     "name": "stderr",
     "output_type": "stream",
     "text": [
      "100%|██████████| 125/125 [00:05<00:00, 20.99it/s]\n"
     ]
    },
    {
     "name": "stdout",
     "output_type": "stream",
     "text": [
      "Epoch: 027, Train Loss: 0.2937, Val Precision@20: 0.0884, Val Recall@20: 0.2606, Val Loss: 2.8981\n"
     ]
    },
    {
     "name": "stderr",
     "output_type": "stream",
     "text": [
      "100%|██████████| 125/125 [00:06<00:00, 20.42it/s]\n"
     ]
    },
    {
     "name": "stdout",
     "output_type": "stream",
     "text": [
      "Epoch: 028, Train Loss: 0.2919, Val Precision@20: 0.0890, Val Recall@20: 0.2644, Val Loss: 2.8649\n"
     ]
    },
    {
     "name": "stderr",
     "output_type": "stream",
     "text": [
      "100%|██████████| 125/125 [00:06<00:00, 20.71it/s]\n"
     ]
    },
    {
     "name": "stdout",
     "output_type": "stream",
     "text": [
      "Epoch: 029, Train Loss: 0.2913, Val Precision@20: 0.0895, Val Recall@20: 0.2651, Val Loss: 2.8580\n"
     ]
    }
   ],
   "source": [
    "patience = 10  # Number of epochs to wait for improvement\n",
    "best_val_recall = 0\n",
    "best_epoch = 0\n",
    "patience_counter = 0\n",
    "best_model_path_LightGCN = 'best_model_LightGCN.pth'\n",
    "\n",
    "train_losses_LightGCN = []\n",
    "val_losses_LightGCN = []\n",
    "\n",
    "for epoch in range(1, n_epochs + 1):\n",
    "    loss = train_LightGCN()\n",
    "    val_loss, val_precision, val_recall = test_LightGCN(val_edge_index, k=20)\n",
    "    print(f'Epoch: {epoch:03d}, Train Loss: {loss:.4f}, Val Precision@20: '\n",
    "          f'{val_precision:.4f}, Val Recall@20: {val_recall:.4f}, '\n",
    "          f'Val Loss: {val_loss:.4f}')\n",
    "    \n",
    "    train_losses_LightGCN.append(loss)\n",
    "    val_losses_LightGCN.append(val_loss)\n",
    "    \n",
    "    # Early stopping logic\n",
    "    if val_recall > best_val_recall:\n",
    "        best_val_recall = val_recall\n",
    "        best_epoch = epoch\n",
    "        patience_counter = 0\n",
    "        torch.save(model.state_dict(), best_model_path)\n",
    "    else:\n",
    "        patience_counter += 1\n",
    "\n",
    "    if patience_counter >= patience:\n",
    "        print(f'Early stopping at epoch {epoch}. Best epoch: {best_epoch} with Val Recall@20: {best_val_recall:.4f}')\n",
    "        break\n",
    "    \n"
   ]
  },
  {
   "cell_type": "code",
   "execution_count": 19,
   "metadata": {},
   "outputs": [
    {
     "data": {
      "image/png": "[encoded data removed]",
      "text/plain": [
       "<Figure size 432x288 with 1 Axes>"
      ]
     },
     "metadata": {
      "needs_background": "light"
     },
     "output_type": "display_data"
    }
   ],
   "source": [
    "import matplotlib.pyplot as plt\n",
    "\n",
    "plt.plot(train_losses_LightGCN, label='Train Loss')\n",
    "plt.plot(val_losses_LightGCN, label='Val Loss')\n",
    "plt.xlabel('Epoch')\n",
    "plt.ylabel('Loss')\n",
    "plt.legend()\n",
    "plt.show()"
   ]
  },
  {
   "cell_type": "code",
   "execution_count": 21,
   "metadata": {},
   "outputs": [
    {
     "name": "stdout",
     "output_type": "stream",
     "text": [
      "Test Precision@20: 0.0892, Test Recall@20: 0.2655\n"
     ]
    }
   ],
   "source": [
    "model.load_state_dict(torch.load(best_model_path_LightGCN))\n",
    "test_loss, test_precision, test_recall = test_LightGCN(test_edge_index, k=20)\n",
    "print(f'Test Precision@20: {test_precision:.4f}, Test Recall@20: {test_recall:.4f}')"
   ]
  },
  {
   "cell_type": "code",
   "execution_count": null,
   "metadata": {},
   "outputs": [],
   "source": []
  }
 ],
 "metadata": {
  "kernelspec": {
   "display_name": "base",
   "language": "python",
   "name": "python3"
  },
  "language_info": {
   "codemirror_mode": {
    "name": "ipython",
    "version": 3
   },
   "file_extension": ".py",
   "mimetype": "text/x-python",
   "name": "python",
   "nbconvert_exporter": "python",
   "pygments_lexer": "ipython3",
   "version": "3.10.0"
  }
 },
 "nbformat": 4,
 "nbformat_minor": 2
}
