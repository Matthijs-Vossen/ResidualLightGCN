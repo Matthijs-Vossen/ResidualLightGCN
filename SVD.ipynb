{
 "cells": [
  {
   "cell_type": "code",
   "execution_count": null,
   "id": "cf90fe97-1496-498a-a604-425d7cc98cd3",
   "metadata": {},
   "outputs": [],
   "source": [
    "#!pip install pandas\n",
    "#!pip install numpy\n",
    "#!pip install scikit-surprise"
   ]
  },
  {
   "cell_type": "code",
   "execution_count": 1,
   "id": "abe5eaef-6739-4497-91a1-dd67e9550398",
   "metadata": {},
   "outputs": [],
   "source": [
    "#import libraries\n",
    "from collections import defaultdict\n",
    "\n",
    "from surprise import Reader, Dataset, SVD, accuracy\n",
    "from surprise.model_selection import cross_validate, KFold\n",
    "import pandas as pd\n",
    "import numpy as np"
   ]
  },
  {
   "cell_type": "code",
   "execution_count": 2,
   "id": "ef476b1f-7464-4ba3-879b-17645e33c450",
   "metadata": {},
   "outputs": [],
   "source": [
    "#load data\n",
    "#ratings = pd.read_csv('ratings.csv', sep='\\t', encoding='latin-1', usecols=['user_id', 'movie_id', 'rating', 'timestamp'])\n",
    "#reader = Reader()\n",
    "#data = Dataset.load_from_df(ratings[['user_id', 'movie_id', 'rating']], reader)\n",
    "data = Dataset.load_builtin('ml-100k')"
   ]
  },
  {
   "cell_type": "code",
   "execution_count": 3,
   "id": "081c761c-fa96-442c-8db8-be26d67598aa",
   "metadata": {},
   "outputs": [],
   "source": [
    "# Calculate precision and recall for all users for a given threshold\n",
    "# source: https://surprise.readthedocs.io/en/stable/FAQ.html#precision-recall-at-k-py\n",
    "def precision_recall_at_k(predictions, k=10, threshold=3.5):\n",
    "    \"\"\"Return precision and recall at k metrics for each user\"\"\"\n",
    "\n",
    "    # First map the predictions to each user.\n",
    "    user_est_true = defaultdict(list)\n",
    "    for uid, _, true_r, est, _ in predictions:\n",
    "        user_est_true[uid].append((est, true_r))\n",
    "\n",
    "    precisions = dict()\n",
    "    recalls = dict()\n",
    "    for uid, user_ratings in user_est_true.items():\n",
    "\n",
    "        # Sort user ratings by estimated value\n",
    "        user_ratings.sort(key=lambda x: x[0], reverse=True)\n",
    "\n",
    "        # Number of relevant items\n",
    "        n_rel = sum((true_r >= threshold) for (_, true_r) in user_ratings)\n",
    "\n",
    "        # Number of recommended items in top k\n",
    "        n_rec_k = sum((est >= threshold) for (est, _) in user_ratings[:k])\n",
    "\n",
    "        # Number of relevant and recommended items in top k\n",
    "        n_rel_and_rec_k = sum(\n",
    "            ((true_r >= threshold) and (est >= threshold))\n",
    "            for (est, true_r) in user_ratings[:k]\n",
    "        )\n",
    "\n",
    "        # Precision@K: Proportion of recommended items that are relevant\n",
    "        # When n_rec_k is 0, Precision is undefined. We here set it to 0.\n",
    "\n",
    "        precisions[uid] = n_rel_and_rec_k / n_rec_k if n_rec_k != 0 else 0\n",
    "\n",
    "        # Recall@K: Proportion of relevant items that are recommended\n",
    "        # When n_rel is 0, Recall is undefined. We here set it to 0.\n",
    "\n",
    "        recalls[uid] = n_rel_and_rec_k / n_rel if n_rel != 0 else 0\n",
    "        \n",
    "    return precisions, recalls"
   ]
  },
  {
   "cell_type": "code",
   "execution_count": 4,
   "id": "8734777b-af37-4bfb-9543-b8455aee5161",
   "metadata": {},
   "outputs": [],
   "source": [
    "n_splits = 5\n",
    "kf = KFold(n_splits=n_splits)\n",
    "algo = SVD()\n",
    "\n",
    "precision_per_threshold = []\n",
    "recall_per_threshold = []\n",
    "rmse_per_threshold = []\n",
    "\n",
    "thresholds = [2.5, 3.0, 3.5, 4.0, 4.5]\n",
    "for threshold in thresholds:\n",
    "    precision = []\n",
    "    recall = []\n",
    "    rmse = []\n",
    "    current_fold = 1\n",
    "    \n",
    "    for trainset, testset in kf.split(data):\n",
    "        algo.fit(trainset)\n",
    "        predictions = algo.test(testset)\n",
    "        precisions_fold, recalls_fold = precision_recall_at_k(predictions, k=20, threshold=threshold)\n",
    "    \n",
    "        avg_precision_fold = sum(prec for prec in precisions_fold.values()) / len(precisions_fold)\n",
    "        avg_recall_fold = sum(rec for rec in recalls_fold.values()) / len(recalls_fold)\n",
    "        \n",
    "        #print(f' Fold {current_fold}')\n",
    "        rmse_fold = accuracy.rmse(predictions, verbose=False)\n",
    "        #print(f'RMSE: {round(rmse_fold, 4)}')\n",
    "        #print(f'Precision: {round(avg_precision_fold, 4)}')\n",
    "        #print(f'Recall: {round(avg_recall_fold, 4)}')\n",
    "        #print('---------')\n",
    "        precision.append(avg_precision_fold)\n",
    "        recall.append(avg_recall_fold)\n",
    "        rmse.append(rmse_fold)\n",
    "        current_fold += 1\n",
    "\n",
    "    avg_rmse = np.mean(np.array(rmse))\n",
    "    avg_precision = np.mean(np.array(precision))\n",
    "    avg_recall = np.mean(np.array(recall))\n",
    "\n",
    "    rmse_per_threshold.append(avg_rmse)\n",
    "    precision_per_threshold.append(avg_precision)\n",
    "    recall_per_threshold.append(avg_recall)\n",
    "        \n",
    "    #print(f'Average RMSE: {round(avg_rmse, 4)}')\n",
    "    #print(f'Average precision: {round(avg_precision, 4)}')\n",
    "    #print(f'Average recall: {round(avg_recall, 4)}')"
   ]
  },
  {
   "cell_type": "code",
   "execution_count": 5,
   "id": "e77eb90c-46e5-4ef5-b7ee-562696291a92",
   "metadata": {},
   "outputs": [
    {
     "name": "stdout",
     "output_type": "stream",
     "text": [
      "Threshold = 2.5\n",
      "RMSE:\t\t  0.9344954661613176\n",
      "Precision@20:\t  0.8730601947206529\n",
      "Recall@20:\t  0.8374377912006782\n",
      "--------------\n",
      "Threshold = 3.0\n",
      "RMSE:\t\t  0.9359747490877499\n",
      "Precision@20:\t  0.8874560043762632\n",
      "Recall@20:\t  0.7686974161581003\n",
      "--------------\n",
      "Threshold = 3.5\n",
      "RMSE:\t\t  0.9346149467102368\n",
      "Precision@20:\t  0.6826313839375272\n",
      "Recall@20:\t  0.6328834433886203\n",
      "--------------\n",
      "Threshold = 4.0\n",
      "RMSE:\t\t  0.9363594555470909\n",
      "Precision@20:\t  0.623216670222505\n",
      "Recall@20:\t  0.3168888735734298\n",
      "--------------\n",
      "Threshold = 4.5\n",
      "RMSE:\t\t  0.935433735607359\n",
      "Precision@20:\t  0.21209652671715223\n",
      "Recall@20:\t  0.09326957229538198\n",
      "--------------\n"
     ]
    }
   ],
   "source": [
    "for i, threshold in enumerate(thresholds):\n",
    "    print(f\"Threshold = {threshold}\")\n",
    "    print(f\"RMSE:\\t\\t  {rmse_per_threshold[i]}\")\n",
    "    print(f\"Precision@20:\\t  {precision_per_threshold[i]}\")\n",
    "    print(f\"Recall@20:\\t  {recall_per_threshold[i]}\")\n",
    "    print(\"--------------\")\n",
    "\n",
    "#print(precision_per_threshold)\n",
    "#print(recall_per_threshold)\n",
    "#print(rmse_per_threshold)"
   ]
  },
  {
   "cell_type": "code",
   "execution_count": null,
   "id": "b00aedb0-e980-4079-afd7-1b1c64ff2d4b",
   "metadata": {},
   "outputs": [],
   "source": []
  }
 ],
 "metadata": {
  "kernelspec": {
   "display_name": "Python 3 (ipykernel)",
   "language": "python",
   "name": "python3"
  },
  "language_info": {
   "codemirror_mode": {
    "name": "ipython",
    "version": 3
   },
   "file_extension": ".py",
   "mimetype": "text/x-python",
   "name": "python",
   "nbconvert_exporter": "python",
   "pygments_lexer": "ipython3",
   "version": "3.12.4"
  }
 },
 "nbformat": 4,
 "nbformat_minor": 5
}
